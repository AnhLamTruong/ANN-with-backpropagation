{
 "cells": [
  {
   "cell_type": "code",
   "execution_count": 1,
   "metadata": {},
   "outputs": [
    {
     "name": "stdout",
     "output_type": "stream",
     "text": [
      "Initial hidden weights: [0.86638858 0.33589016] [0.0755527  0.01860484] [0.54274207 0.9958043 ]\n",
      "Initial hidden biases: [0.59972327 0.65450364]\n",
      "Initial output weights: [0.46084476] [0.70956138]\n",
      "Initial output biases: [0.4799901]\n",
      "Last prediction hidden weights: [6.757536   5.26468356] [6.75416903 5.26358982] [-1.58938026 -3.89878603]\n",
      "Last prediction hidden bias: [-1.53239907 -4.2400867 ]\n",
      "Last prediction output weights: [10.00870758] [-10.64316586]\n",
      "Last prediction output bias: [-4.71352977]\n",
      "\n",
      "Output from ANN after 100,000 trains: [0.01346526] [0.98867113] [0.988674] [0.01149333]\n"
     ]
    }
   ],
   "source": [
    "import numpy as np\n",
    "# seed random numbers to make calculation\n",
    "# np.random.seed(1)\n",
    "# sigmoid function\n",
    "def nonlin (x, deriv=False):\n",
    "  if (deriv==False):\n",
    "    return 1/(1 + np.exp(-x))\n",
    "  return x * (1 - x)\n",
    "\n",
    "\n",
    "#Input datasets\n",
    "inputs = np.array([[0,0,1],\n",
    "                   [0,1,1],\n",
    "                   [1,0,1],\n",
    "                   [1,1,1]])\n",
    "# output dataset \n",
    "expected_output = np.array([[0,1,1,0]]).T\n",
    "\n",
    "\n",
    "#Use three neurons in the input layer, \n",
    "#two neurons in the hidden layer, \n",
    "#and one neuron in the output layer.\n",
    "inputLayer = 3\n",
    "hiddenLayer = 2\n",
    "outputLayer = 1 \n",
    "\n",
    "\n",
    "#initialize weights randomly with mean 0\n",
    "hid_weights = np.random.uniform(size=(inputLayer,hiddenLayer))\n",
    "hid_bias =np.random.uniform(size=(1,hiddenLayer))\n",
    "out_weights = np.random.uniform(size=(hiddenLayer,outputLayer))\n",
    "out_bias = np.random.uniform(size=(1,outputLayer))\n",
    "\n",
    "print(\"Initial hidden weights: \",end='')\n",
    "print(*hid_weights)\n",
    "print(\"Initial hidden biases: \",end='')\n",
    "print(*hid_bias)\n",
    "print(\"Initial output weights: \",end='')\n",
    "print(*out_weights)\n",
    "print(\"Initial output biases: \",end='')\n",
    "print(*out_bias)\n",
    "\n",
    "#Training algorithm\n",
    "for iter in range(100000):\n",
    "\n",
    "  #Forward Propagation\n",
    "  hid_layer = np.dot(inputs,hid_weights)\n",
    "  hid_layer+= hid_bias\n",
    "  hid_layer_output = nonlin(hid_layer)\n",
    "  out_layer= np.dot(hid_layer_output,out_weights)\n",
    "  out_layer += out_bias\n",
    "  predicted_output = nonlin(out_layer)\n",
    "\n",
    "  #Backpropagation using Gradient Descent Algorithm\n",
    "   # how much did we miss?\n",
    "  error = expected_output - predicted_output\n",
    "  \n",
    "  # multiply how much we missed by the \n",
    "  # slope of the sigmoid at the values in predicted_output\n",
    "  delta_predicted= error * nonlin(predicted_output,True)\n",
    "  error_hidden_layer = delta_predicted.dot(out_weights.T)\n",
    "  delta_hidden_layer = error_hidden_layer * nonlin(hid_layer_output,True)\n",
    "  \n",
    "  #Updating Weights and Biases\n",
    "  #Getting closer to expected_output\n",
    "  out_weights += hid_layer_output.T.dot(delta_predicted) * 0.1\n",
    "  out_bias += np.sum(delta_predicted,axis=0,keepdims=True) * 0.1\n",
    "  hid_weights += inputs.T.dot(delta_hidden_layer) * 0.1\n",
    "  hid_bias += np.sum(delta_hidden_layer,axis=0,keepdims=True) * 0.1\n",
    "\n",
    "\n",
    "\n",
    "print(\"Last prediction hidden weights: \",end='')\n",
    "print(*hid_weights)\n",
    "print(\"Last prediction hidden bias: \",end='')\n",
    "print(*hid_bias)\n",
    "print(\"Last prediction output weights: \",end='')\n",
    "print(*out_weights)\n",
    "print(\"Last prediction output bias: \",end='')\n",
    "print(*out_bias)\n",
    "print(\"\\nOutput from ANN after 100,000 trains: \",end='')\n",
    "print(*predicted_output)\n"
   ]
  }
 ],
 "metadata": {
  "kernelspec": {
   "display_name": "Python 3.10.6 64-bit (microsoft store)",
   "language": "python",
   "name": "python3"
  },
  "language_info": {
   "codemirror_mode": {
    "name": "ipython",
    "version": 3
   },
   "file_extension": ".py",
   "mimetype": "text/x-python",
   "name": "python",
   "nbconvert_exporter": "python",
   "pygments_lexer": "ipython3",
   "version": "3.10.6"
  },
  "orig_nbformat": 4,
  "vscode": {
   "interpreter": {
    "hash": "3202906422048efeae18cfb62b6d32fad0994e44a905028d0d9bbbff55d5927b"
   }
  }
 },
 "nbformat": 4,
 "nbformat_minor": 2
}
