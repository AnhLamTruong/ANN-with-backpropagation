{
 "cells": [
  {
   "cell_type": "markdown",
   "metadata": {},
   "source": [
    "#### Average Value of the Nodes on Each Level\n",
    "I did a DFS over a tre and save the sum and the number of the nodes at ever level. Then iterate over the levels and find the average for each.\n",
    "Time: O(N), where N is the number of nodes in a tree"
   ]
  },
  {
   "cell_type": "code",
   "execution_count": 1,
   "metadata": {},
   "outputs": [
    {
     "name": "stdout",
     "output_type": "stream",
     "text": [
      "[3.0, 11.5, 11.0]\n"
     ]
    }
   ],
   "source": [
    "# Definition for a binary tree node.\n",
    "\n",
    "from typing import Optional\n",
    "from typing import List\n",
    "from collections import defaultdict\n",
    "\n",
    "from traitlets import default\n",
    "class TreeNode:\n",
    "    def __init__(self, val=0, left=None, right=None):\n",
    "        self.val = val\n",
    "        self.left = left\n",
    "        self.right = right\n",
    "class Solution:\n",
    "    def averageOfLevels(self, root: Optional[TreeNode]) -> List[float]:\n",
    "        level_count=defaultdict(int);\n",
    "        level_sum=defaultdict(int);\n",
    "        def dfs(node=root, level=0):\n",
    "          if not node:\n",
    "            return\n",
    "          level_count[level] += 1\n",
    "          level_sum[level] += node.val\n",
    "          dfs(node.left, level+1)\n",
    "          dfs(node.right, level+1)\n",
    "        dfs()\n",
    "        return [level_sum[i] / level_count[i] for i in range(len(level_count))]\n",
    "\n",
    "\n",
    "root=None\n",
    "root=TreeNode(3)\n",
    "root.left=TreeNode(3)\n",
    "root.right=TreeNode(20)\n",
    "root.right.left=TreeNode(15)\n",
    "root.right.right=TreeNode(7)\n",
    "\n",
    "s=Solution();\n",
    "print(s.averageOfLevels(root))"
   ]
  },
  {
   "cell_type": "markdown",
   "metadata": {},
   "source": [
    "#### Longest Palindromic Substring\n",
    "I maintained a boolean table[n][n] that is filled in bottom up manner.\n",
    "The value of table[i][j] is true, if the substring is palindrome, otherwise false.\n",
    "To calculate table[i][j], I check the value of table[i+1][j-1], if the value is true and str[i] is same as str[j], then we make table[i][j] true.\n",
    "Otherwise, the value of table[i][j] is made false.\n",
    "Time: O(n^2) because two nested traversals are needed."
   ]
  },
  {
   "cell_type": "code",
   "execution_count": 2,
   "metadata": {},
   "outputs": [
    {
     "name": "stdout",
     "output_type": "stream",
     "text": [
      "Longest palindrome substring is: \n",
      "aba\n",
      "Length is: 3\n"
     ]
    }
   ],
   "source": [
    "import string\n",
    "import sys\n",
    "\n",
    "\n",
    "class Solution:\n",
    "    def longestPalindrome(self, str: string, n:int) -> str:\n",
    "        table = [[0 for x in range(n)] for y in range(n)]\n",
    "        maxLength=1\n",
    "        i=0\n",
    "        while(i<n):\n",
    "          table[i][i]=True\n",
    "          i=i+1\n",
    "        start = 0\n",
    "        i = 0\n",
    "        while i < n - 1 :\n",
    "            if (str[i] == str[i + 1]) :\n",
    "                table[i][i + 1] = True\n",
    "                start = i\n",
    "                maxLength = 2\n",
    "            i = i + 1\n",
    "        k = 3\n",
    "        while k <= n :\n",
    "          i=0\n",
    "          while i<(n-k+1):\n",
    "            j = i + k - 1\n",
    "            if (table[i + 1][j - 1] and\n",
    "                      str[i] == str[j]) :\n",
    "                table[i][j] = True\n",
    "     \n",
    "                if (k > maxLength) :\n",
    "                    start = i\n",
    "                    maxLength = k\n",
    "            i=i+1\n",
    "          k=k+1\n",
    "        print (\"Longest palindrome substring is: \")\n",
    "        print (printSubStr(str, start,start + maxLength - 1))\n",
    "        return maxLength\n",
    "def printSubStr(st, low, high) :\n",
    "    sys.stdout.write(st[low : high + 1])\n",
    "    sys.stdout.flush()\n",
    "    return ''\n",
    "\n",
    "s=Solution()\n",
    "st = \"abacdgfdcaba\"\n",
    "l = s.longestPalindrome(st,12)\n",
    "print (\"Length is:\", l)"
   ]
  },
  {
   "cell_type": "markdown",
   "metadata": {},
   "source": [
    "#### Valid Anagram\n",
    "Here I make use of Dictionary/HashMap in Python. Dictionaries/HashMap are used to store data values in key: value pairs. Taking each letter in the given word as keys we can find its frequency and store it as their respective values. Eg: REED. {R:1, E:2, D:1}, as R and D occur once, and E occurs twice. Similarly, we find the frequency of letters of both the given words and store it in two different dictionaries. Finally, if both the dictionaries are equal we can conclude that the given words form an Anagram, and return True, else return False!\n",
    "Time: O(n) becasue we just need to loop throught the array twice, so O(2n)=>O(n)"
   ]
  },
  {
   "cell_type": "code",
   "execution_count": 3,
   "metadata": {},
   "outputs": [
    {
     "name": "stdout",
     "output_type": "stream",
     "text": [
      "True\n",
      "False\n"
     ]
    }
   ],
   "source": [
    "class Solution:\n",
    "    def isAnagram(self, s: str, t: str) -> bool:\n",
    "      a={}\n",
    "      b={}\n",
    "      for i in s:\n",
    "        if i in a:\n",
    "          a[i]+=1\n",
    "        else:\n",
    "          a[i]=1\n",
    "      for i in t:\n",
    "        if i in b:\n",
    "          b[i]+=1\n",
    "        else:\n",
    "          b[i]=1\n",
    "      if a==b:\n",
    "        return True\n",
    "      else:\n",
    "        return False\n",
    "      \n",
    "s=Solution()\n",
    "s1 = \"anagram\"\n",
    "t1 = \"nagaram\"\n",
    "print(s.isAnagram(s1,t1))\n",
    "s2 =\"rat\"\n",
    "t2=\"car\"\n",
    "print(s.isAnagram(s2,t2))"
   ]
  }
 ],
 "metadata": {
  "kernelspec": {
   "display_name": "Python 3.10.7 64-bit",
   "language": "python",
   "name": "python3"
  },
  "language_info": {
   "codemirror_mode": {
    "name": "ipython",
    "version": 3
   },
   "file_extension": ".py",
   "mimetype": "text/x-python",
   "name": "python",
   "nbconvert_exporter": "python",
   "pygments_lexer": "ipython3",
   "version": "3.10.7"
  },
  "orig_nbformat": 4,
  "vscode": {
   "interpreter": {
    "hash": "6bba7ad6fc9afbb17a33197c0438130850015aba75982ac77e342f4df6c21110"
   }
  }
 },
 "nbformat": 4,
 "nbformat_minor": 2
}
